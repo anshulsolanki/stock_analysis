# Install dependency if needed:
pip install yfinance matplotlib

import yfinance as yf
import matplotlib.pyplot as plt

#Choose the stock and time range
ticker = "AAPL"   # Apple, you can change to "TSLA", "MSFT", "RELIANCE.NS", etc.
start_date = "2023-01-01"
end_date = "2025-01-01"

# Fetch historical data
stock_data = yf.download(ticker, start=start_date, end=end_date)

# Plot closing price
plt.figure(figsize=(12,6))
plt.plot(stock_data.index, stock_data["Close"], label=f"{ticker} Close Price", color="blue")
plt.title(f"{ticker} Stock Price ({start_date} → {end_date})")
plt.xlabel("Date")
plt.ylabel("Price (USD)")
plt.legend()
plt.grid(True, linestyle="--", alpha=0.6)
plt.show()
